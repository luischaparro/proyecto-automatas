{
  "nbformat": 4,
  "nbformat_minor": 0,
  "metadata": {
    "colab": {
      "provenance": []
    },
    "kernelspec": {
      "name": "python3",
      "display_name": "Python 3"
    },
    "language_info": {
      "name": "python"
    }
  },
  "cells": [
    {
      "cell_type": "markdown",
      "source": [
        "# Proyecto: \n",
        "## Autómata Finito Determinista Para la Clasificación de dispositivos\n",
        "### Presentado por:\n",
        "* luis esneidher chaparro castaño\n"
      ],
      "metadata": {
        "id": "VY1JBySUAf4V"
      }
    },
    {
      "cell_type": "code",
      "execution_count": 3,
      "metadata": {
        "id": "CvxHDH8Y-qhD",
        "colab": {
          "base_uri": "https://localhost:8080/"
        },
        "outputId": "cbbec892-9dc6-4c0e-b538-da8650e9f98e"
      },
      "outputs": [
        {
          "output_type": "stream",
          "name": "stdout",
          "text": [
            "Looking in indexes: https://pypi.org/simple, https://us-python.pkg.dev/colab-wheels/public/simple/\n",
            "Collecting automata-lib\n",
            "  Downloading automata_lib-7.1.0-py3-none-any.whl (49 kB)\n",
            "\u001b[2K     \u001b[90m━━━━━━━━━━━━━━━━━━━━━━━━━━━━━━━━━━━━━━━\u001b[0m \u001b[32m49.4/49.4 KB\u001b[0m \u001b[31m994.2 kB/s\u001b[0m eta \u001b[36m0:00:00\u001b[0m\n",
            "\u001b[?25hCollecting frozendict>=2.3.4\n",
            "  Downloading frozendict-2.3.4-cp38-cp38-manylinux_2_17_x86_64.manylinux2014_x86_64.whl (110 kB)\n",
            "\u001b[2K     \u001b[90m━━━━━━━━━━━━━━━━━━━━━━━━━━━━━━━━━━━━━━━\u001b[0m \u001b[32m111.0/111.0 KB\u001b[0m \u001b[31m4.1 MB/s\u001b[0m eta \u001b[36m0:00:00\u001b[0m\n",
            "\u001b[?25hRequirement already satisfied: networkx>=2.6.2 in /usr/local/lib/python3.8/dist-packages (from automata-lib) (3.0)\n",
            "Collecting pydot>=1.4.2\n",
            "  Downloading pydot-1.4.2-py2.py3-none-any.whl (21 kB)\n",
            "Requirement already satisfied: pyparsing>=2.1.4 in /usr/local/lib/python3.8/dist-packages (from pydot>=1.4.2->automata-lib) (3.0.9)\n",
            "Installing collected packages: pydot, frozendict, automata-lib\n",
            "  Attempting uninstall: pydot\n",
            "    Found existing installation: pydot 1.3.0\n",
            "    Uninstalling pydot-1.3.0:\n",
            "      Successfully uninstalled pydot-1.3.0\n",
            "Successfully installed automata-lib-7.1.0 frozendict-2.3.4 pydot-1.4.2\n"
          ]
        }
      ],
      "source": [
        "!mkdir files\n",
        "!pip install automata-lib"
      ]
    },
    {
      "cell_type": "markdown",
      "source": [
        "# Para el automata se definieron los siguientes parametros:\n",
        "* A: pantalla AMOLED LTPO de 6,73 pulgadas\n",
        "* B: Pantalla IPS LCD de 6,5 pulgadas\n",
        "* C: Pantalla LCD Multi-Touch de 6,1 pulgadas\n",
        "* D: Bateria de 4.600 mAh\n",
        "* E: Bateria de 5.000 mAh\n",
        "* F: Bateria de 3.046 mAh\n",
        "* G: MIUI 14\n",
        "* H: Android 11\n",
        "* I: iOS\n",
        "* J: Android 12\n",
        "* K: Android 13\n",
        "\n",
        "Donde el automata leera primero el tipo de pantalla(A,B,C), seguido de la bateria(D,E,F) y finalmente el Sistema Operativo(G,H,I,J,K)\n",
        "\n",
        "Ejemplos: \n",
        "* xiaomi = ADG\n",
        "* celular chino X = ADK\n",
        "* motorola = BEH\n",
        "* iphone 11 = CFI\n",
        "* xiaomi 12T pro = AEJ\n",
        "* realme GT 2 Pro = AEK"
      ],
      "metadata": {
        "id": "WbLnCzg8BGr2"
      }
    },
    {
      "cell_type": "code",
      "source": [
        "def punto1():\n",
        "    \n",
        "    from automata.fa.dfa import DFA\n",
        "    d = DFA(\n",
        "        states = {'q0','q1','q2','q3','q4','q5','q6','q7','q8','q9','q10','q11','q12','q13'},\n",
        "        input_symbols={'A','B','C','D','E','F','G','H','I','J','K'},\n",
        "        transitions={\n",
        "            'q0': {'A': 'q1', 'B': 'q8', 'C': 'q11'},\n",
        "            'q1': {'D': 'q2', 'E': 'q5'},\n",
        "            'q2': {'G': 'q3', 'K': 'q4'},\n",
        "            'q5': {'J': 'q6', 'K': 'q7'},\n",
        "            'q8': {'E': 'q9'},\n",
        "            'q9': {'H': 'q10'},\n",
        "            'q11': {'F': 'q12'},\n",
        "            'q12': {'I': 'q13'}\n",
        "        },\n",
        "        initial_state='q0',\n",
        "        final_states={'q3','q4','q6','q7','q10','q13'},\n",
        "        allow_partial = True\n",
        "    )\n",
        "    return d"
      ],
      "metadata": {
        "id": "ArIty4XrELVU"
      },
      "execution_count": 4,
      "outputs": []
    },
    {
      "cell_type": "code",
      "source": [
        "word = input()\n",
        "def grade_1():\n",
        "    d = punto1()\n",
        "\n",
        "    if d.accepts_input(word) == True:\n",
        "      return 1\n",
        "\n",
        "if grade_1() == 1:\n",
        "  if word == \"ADG\":\n",
        "    print('Es un xiaomi')\n",
        "  elif word == \"ADK\":\n",
        "    print('Es un celular chino X')\n",
        "  elif word == \"BEH\":\n",
        "    print('Es un motorola')\n",
        "  elif word == \"CFI\":\n",
        "    print('Es un iphone 11')\n",
        "  elif word == \"AEJ\":\n",
        "    print('Es un xiaomi 12T pro')\n",
        "  elif word == \"AEK\":\n",
        "    print('Es un realme GT 2 Pro')\n",
        "else:\n",
        "  print('Caracteristicas no coinciden con los articulos a la venta')  "
      ],
      "metadata": {
        "colab": {
          "base_uri": "https://localhost:8080/"
        },
        "id": "iXAxXXuvEMo6",
        "outputId": "9c7394eb-e5ba-457b-edc5-663309fb7293"
      },
      "execution_count": 12,
      "outputs": [
        {
          "output_type": "stream",
          "name": "stdout",
          "text": [
            "ADG\n",
            "Es un xiaomi\n"
          ]
        }
      ]
    }
  ]
}